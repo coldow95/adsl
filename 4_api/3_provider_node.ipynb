{
 "cells": [
  {
   "cell_type": "code",
   "execution_count": null,
   "metadata": {},
   "outputs": [],
   "source": [
    "# !pip install web3"
   ]
  },
  {
   "cell_type": "code",
   "execution_count": null,
   "metadata": {},
   "outputs": [],
   "source": [
    "# The code here requires additional packages and libraries.\n",
    "# !pip install \"web3[tester]\"\n",
    "# error: Microsoft Visual C++ 14.0 or greater is required. Get it with \"Microsoft C++ Build Tools\": https://visualstudio.microsoft.com/visual-cpp-build-tools/\n",
    "\n",
    "# from web3 import Web3, EthereumTesterProvider\n",
    "# w3 = Web3(EthereumTesterProvider())\n",
    "# w3.is_connected()"
   ]
  },
  {
   "cell_type": "code",
   "execution_count": 11,
   "metadata": {},
   "outputs": [],
   "source": [
    "from web3 import Web3, AsyncWeb3"
   ]
  },
  {
   "cell_type": "code",
   "execution_count": 5,
   "metadata": {},
   "outputs": [],
   "source": [
    "from dotenv import dotenv_values\n",
    "config = dotenv_values(\"../.env\")"
   ]
  },
  {
   "cell_type": "code",
   "execution_count": 9,
   "metadata": {},
   "outputs": [],
   "source": [
    "url = config['INFURA_MAINNET'] + config['INFURA_KEY']"
   ]
  },
  {
   "cell_type": "code",
   "execution_count": 12,
   "metadata": {},
   "outputs": [
    {
     "data": {
      "text/plain": [
       "True"
      ]
     },
     "execution_count": 12,
     "metadata": {},
     "output_type": "execute_result"
    }
   ],
   "source": [
    "w3 = Web3(Web3.HTTPProvider(url))\n",
    "w3.is_connected()"
   ]
  },
  {
   "cell_type": "code",
   "execution_count": 13,
   "metadata": {},
   "outputs": [
    {
     "data": {
      "text/plain": [
       "AttributeDict({'baseFeePerGas': 20128926527,\n",
       " 'difficulty': 0,\n",
       " 'extraData': HexBytes('0x7273796e632d6275696c6465722e78797a'),\n",
       " 'gasLimit': 30000000,\n",
       " 'gasUsed': 12617238,\n",
       " 'hash': HexBytes('0xb626e0cd31b72ae10780fceac4defc2f23c709eecce367f734c74cbc1077d145'),\n",
       " 'logsBloom': HexBytes('0x5aa5430ec3e8a0230a41dd71ec913533f8010a95f094d88545099714642b07488a8501ac882803386b184c007007990813110008a831372902906469403a7ca48a0ac51d41299b78e88064280052087a88488c8610461c44a2a41520b9bc9c103240868bee72a41765c15300a114df45881808cc2b0a3e29ab8c0897b9c904c281116542be7055ca00c0850297a3073e78d068f5090e804e150522d032b21a2dcee16f600c2c6283285a4494d512afd0fd0a0d985440d86227202f238089605c3111a84bce81244d031aa961115090096864228a90ca4cf02188070e4241ac69001ae9099101123028479026b8320274aa4a501c40a842d26a381a9b621364c1'),\n",
       " 'miner': '0x1f9090aaE28b8a3dCeaDf281B0F12828e676c326',\n",
       " 'mixHash': HexBytes('0x1a4bb20e5503d31c59ecaf92cde378084c4c74ff1d4345aa64ce6a43a7a1fb8a'),\n",
       " 'nonce': HexBytes('0x0000000000000000'),\n",
       " 'number': 18220411,\n",
       " 'parentHash': HexBytes('0x125a069ad482082d5e079a4f1178d9c06c36adb6b79c3da67a58ab3b99e91b80'),\n",
       " 'receiptsRoot': HexBytes('0x5f889819054dd7e468585fc7a224d86f07786ad08c2b6a2c2c4816f927550587'),\n",
       " 'sha3Uncles': HexBytes('0x1dcc4de8dec75d7aab85b567b6ccd41ad312451b948a7413f0a142fd40d49347'),\n",
       " 'size': 99008,\n",
       " 'stateRoot': HexBytes('0xe04c8bc653c78e90013614d0f5ca2e6fdd8dcded0e0a53f2593946b16beb6588'),\n",
       " 'timestamp': 1695736871,\n",
       " 'totalDifficulty': 58750003716598352816469,\n",
       " 'transactions': [HexBytes('0x6ef474b2856b398414fb2d5e7da17bd678441c069be7833cc81bb5cc2887f07a'),\n",
       "  HexBytes('0x656d197865e47133a44267e33d034ad037e999ab701d438d3a166b83f12875d5'),\n",
       "  HexBytes('0x83ec74844fb6776efc853f317c804e31a29e92ad676feb64adcc87f1d375263f'),\n",
       "  HexBytes('0x5a7f35bb041e925f4fb7ce361350a293748943c90b8b333f2ea17525a6eaa2e5'),\n",
       "  HexBytes('0x1dbc81ba4bfaa4d403567c4cee93650ca28a0ccd491bd37f30e378b53b4337f3'),\n",
       "  HexBytes('0xbb39898154fb1102e5bdbdb6edd5c9c4cb16545ef43983b0c30a10a59422b661'),\n",
       "  HexBytes('0x0a374e0e7b496dbc8569247e667ca744d141753537d99b8a5f8bb1d8ab6795b8'),\n",
       "  HexBytes('0x00acaf37fcdfd673399dc6d25b2862e1963fa8420ef21d47e16c02780f4ff43c'),\n",
       "  HexBytes('0x904f30c7a5f5877824fbe03981643053d549ad5b9506541c14009bf9f11b4ba7'),\n",
       "  HexBytes('0x70d8c51c22a75486e5ba3afecf237605e75435c09da95511e012e229c18a2a59'),\n",
       "  HexBytes('0xbfe74e165d7ea87240c975f699f07720707426ace81e1c6427cd4494205ca5aa'),\n",
       "  HexBytes('0x65d87d2e586094c730d3d87dd356abfd6722111ba0597f35c825d9ae5163b8ff'),\n",
       "  HexBytes('0x0253241df10e56c64e9df478861e5d58338aa29514a119e5e37dd967ef5126ff'),\n",
       "  HexBytes('0x6daaa447f621c9af974846c07974f2446f400aed511e7d934fd146d0b0ccc401'),\n",
       "  HexBytes('0x94924792a6ec71e3d1dd8e24ab1ef8ee4861f1bae417ad40a4e2484dfb8a6241'),\n",
       "  HexBytes('0x44c7160b44791ee80c049b80b20984e5e2a69951e13e6710ffabdd0925dd8313'),\n",
       "  HexBytes('0x6820af7bfcddec896997870f38e4da262951f256e743f6419f46c5980361ec7e'),\n",
       "  HexBytes('0x145d029e469252a69406565a8c58e7d2bcafb88e91ebe60f3ed98ec9dcabc59b'),\n",
       "  HexBytes('0xc7be401325a1b2b191ede4f758a9145fe71cd16dc3b3bb913da8d29270a5c924'),\n",
       "  HexBytes('0x969fe7e93ad3ec90b964780f017f302778d034cd146cefb646606c654bbc846b'),\n",
       "  HexBytes('0x739d8f9a9c22b2e315d21da317de455c01798c46a07b1b3799779f295820eaa8'),\n",
       "  HexBytes('0x5547072efc0a0192dde8c85fdd8ce6023ceace996220442d2ed939dac8aa689b'),\n",
       "  HexBytes('0x10533f72cc5f294308d3b207fb606d9329ba2d89e6a28bbfce45eb0f2b493aea'),\n",
       "  HexBytes('0x04ede9fe91aa39b88979c983de647a262d2628880ba961bc35f39480b5530c4e'),\n",
       "  HexBytes('0x6c9ec73e4420136a659d5e26f357adab06467fb4506bc60790de9d5d9ddf9511'),\n",
       "  HexBytes('0x9b0658b4f2b82b50e3c890fef060b41eb7b4b8cdd40d2d4709ccf0c44fe22b93'),\n",
       "  HexBytes('0x79b729c8b953cff8181a533bc71daf67ae2bd0194d4bba73d719f74ce05b4d37'),\n",
       "  HexBytes('0x5c4b0108bfa767a8f2f92dfb4871813504a8bce71df2ea8e6115a5a99bfa5c32'),\n",
       "  HexBytes('0xec685573d2c8fe0f109abdad487aa6fadff34fa244c1a72d575c619f0029723f'),\n",
       "  HexBytes('0xa2d87de4c3cd487833faf9a5283dc99609f13ce6704cf1a0d67a38cddc9a9c36'),\n",
       "  HexBytes('0xb34759762c067c9b068a6a4014ad50e31ab74243a7cf9a5f880c1ae3e041007a'),\n",
       "  HexBytes('0x622d6916538d885f30b5f8f0fc45478102ae9b92eb898fe067636c719924efdf'),\n",
       "  HexBytes('0xefe284f895c4a9c24cbead77f8c969c9488604d9dd39ac4c198f033c3ce5d1b3'),\n",
       "  HexBytes('0x2cba00583f72dc90efbacdc9a61c82152f6e654ed6f15cdc97de647d36311418'),\n",
       "  HexBytes('0x0fb59fead79b67dea0ede354451d3a36e521ed5ebd5484d8ff5b117b5e17ab91'),\n",
       "  HexBytes('0x2d82e3a03eca79daed76e407a3ebcdaeaa7a85bea9c9ee88d82f7e2f5d83415d'),\n",
       "  HexBytes('0xaaf49710a0eb8e27f40a301cf05b1a60c3a6cce412574e6e9a1908ac07473336'),\n",
       "  HexBytes('0x0b7af00877eabd56154f721889cd914566f5082c13744ba81d19ac7f2db94a8a'),\n",
       "  HexBytes('0x077b478507bc3717a4b8ee1ba0e7ed149215c017a74b66692acdaca932ab9642'),\n",
       "  HexBytes('0x4cda39bd998ce6e30bfda6f1893e58f382974bca19056cd00ba62c32a4dfde92'),\n",
       "  HexBytes('0x24bff3f827858dc2c0fc7c61461b364efe4829cf9e272f1f6e997caba3c63c24'),\n",
       "  HexBytes('0x5ee407f9e2d404a41e9e1d7f77b7a2b66f7ec24c83c46377219cd02ea8a123c5'),\n",
       "  HexBytes('0x6f4fd25499fe9ddbf0d59476b16f0ff61a95b9aa849f49c1b06d1aa2fc801a8c'),\n",
       "  HexBytes('0x011599c10c66144f103887b30f22ef8b8908586cc2e9fda7123612fd252f12a6'),\n",
       "  HexBytes('0x8cc44e07102c8a515a1eafc66818773fbcd86c5d7827037bd733a52bbf36d7d0'),\n",
       "  HexBytes('0xc8a37f0c858a9ce3748d16e4ee49fce3a7adc9391a035a556f2a9f2571d35b4e'),\n",
       "  HexBytes('0x1568e3ee18d844de2c2728b72cae2d9e27701aec03c0c9a1f886d32f7dab1850'),\n",
       "  HexBytes('0x5079641d54fca9939ad7df6ca3f6c4cf569560791a723c3010351255461de2d1'),\n",
       "  HexBytes('0xa90ad88edcf94e966a35bc5041d2bf9250af9ee1c22824b9739edef5454e694f'),\n",
       "  HexBytes('0x79911ebccf0f16a54da3e14a0d69677c6496f80703e00c175c0a4b7fac1007cf'),\n",
       "  HexBytes('0x19fcf96d2038341adfdc410ef406ef06c8d1b97e466babe4ea41cae5471dc18b'),\n",
       "  HexBytes('0x6123a3133ef3c1f87e72893b463f007de330e0ae3ab456d184276aeccbee1c7a'),\n",
       "  HexBytes('0xbaecdc48109c015feec14eeee156678fdaf685486edd591be992c2c9863299aa'),\n",
       "  HexBytes('0xfa344ae999e2bab39d594d88a43412980aec3a2c708f7c45db6eeb3f34da3f5d'),\n",
       "  HexBytes('0x429c35ce1906d4dca29ee2a03416ba331b064a7ebe889280b1ce6a8fe0c171fc'),\n",
       "  HexBytes('0xe1b9c11b033013a5957fc08a2b570f1da8ebe5b947b40d464a7b9995ee1962a0'),\n",
       "  HexBytes('0x65919d72b4049597b667220d557d33eb6710778fda30b8f2faea70f4ef7c774b'),\n",
       "  HexBytes('0xb69a54f02c15802da11436343606b91d18cebca81ee64a7f7a0bda5d93084aad'),\n",
       "  HexBytes('0x84580390928179217fdea3bac60246621c566401dc06cdf9d3b69342039e442b'),\n",
       "  HexBytes('0x5a668b589ec3f0ffa97ba3b1b4471ecf94ed51490f58fd4b2b2ff2b99442dadc'),\n",
       "  HexBytes('0x8501e57dd756412fed49f1fcafbfb5ddbb4ef2c0c31aa231c8fc16b6c5191991'),\n",
       "  HexBytes('0xdc3983829c73e12a37a8e657afb29d311d1f535415beaf2e43ee20bc6046bf66'),\n",
       "  HexBytes('0x31f654439f031b2a2077f5dfb2985610cc2b95957a975caf4120c63ea154eb24'),\n",
       "  HexBytes('0x3778961e1b9caa6f8c420837985e738f80cf9300241fd73a5ebfc7e5b0c0a396'),\n",
       "  HexBytes('0x6dbbdad3c43d7e52dcffa9654dcd7bee0b1a0708b7d9f9a2d9c44faf2242f478'),\n",
       "  HexBytes('0xf3220df976a629238bf3baf221554ac47c9042e7be54153f9c0b956dece86029'),\n",
       "  HexBytes('0x040b99175782f28bd8e206d17a0aa90fe5a6ef1850825984b6c10951f811d3f4'),\n",
       "  HexBytes('0xb1f643ad5b834528672ea4719d56813a2baaee74b9c89fbb36f49a1ba1a7f0ec'),\n",
       "  HexBytes('0x1b6020b5f642f6a9c23b191525478db8161fd78c3dc983b3bd302a55599e8c2f'),\n",
       "  HexBytes('0x3a2edf04009beee13fe268f0b821793aeb2b825a7c0c46ffeb4487b58a93ca90'),\n",
       "  HexBytes('0xbcf5122915630e054402c60fcce320c22b9d550c4402075958c5ec7f2e0e6163'),\n",
       "  HexBytes('0x724c5e90c87ad42d617f62355432b31b035423726523be667d6cc48e3de6b88e'),\n",
       "  HexBytes('0x0fe3eac064be791beb9ad907d1ca22ea2f3c9124e9b6c2f7540fa989f7d1c592'),\n",
       "  HexBytes('0xc757ac8bec52e3b38cf696514811e843c75fb380074778964899b1f56ac418e5'),\n",
       "  HexBytes('0xd0b1a3bbdaaf061f9e6b255fee1d6be2c4366bac91fe61419bda7b3c4c63098c'),\n",
       "  HexBytes('0x27b61fb9bdc1d20a5d16e0d3450068bb3645656bba575bf48eba33401a7e0884'),\n",
       "  HexBytes('0x8723fefbe18eb93ef6f3493ef9ade8de2f8b3c087f5b441855fe9895fd9bba05'),\n",
       "  HexBytes('0xa5dcb0d8dd7697f16353bac0f3f68cbd86e226175e32fbf92ab7921916491074'),\n",
       "  HexBytes('0x812e4681e7c921bb0503bf9c4ce290d20777595e800b17e2ade8a867c7c84958'),\n",
       "  HexBytes('0x65db54af93c0b31c46478501d637f0bd169c6217bdd98dfc38ed12ee0df3ecf7'),\n",
       "  HexBytes('0x9850d2301c7239ff32be8dfcf25f84356299c01d08d5a0d98d363cd627caeac7'),\n",
       "  HexBytes('0x3137db5647206a22237a07fe9a8fe35fbd0621d13f9c40c140c18166e3f19147'),\n",
       "  HexBytes('0x0c0419da958a5fbf570f6ae5e9b45b21b1d9956c877398a1fb686466d8bceaa9'),\n",
       "  HexBytes('0x25122ab6066ec1d51573761dcdd0521621d3688158fb94167b89b013854347a1'),\n",
       "  HexBytes('0x05cd8974572ee53605655ac960a366b676e4797aa24bb4a59924b321ed5f1cdf'),\n",
       "  HexBytes('0x06acafe6864843df37e793b334ebbd91da2175ee7c26b1a5cf2af9683450d4be'),\n",
       "  HexBytes('0x9504d3c2be48ba32dc2de0a33c1b84fc3b1aa05aa6f2622239f4323b799f5708'),\n",
       "  HexBytes('0x18fadf4a3f94eab399fd565c1f42521ab6109c058a2c289862171bdf44f70980'),\n",
       "  HexBytes('0xd645d396ccf9bf13e80dbbb6e496456e2f83cd354d1eafa240d520c69f04441a'),\n",
       "  HexBytes('0xac0089d3c9e0fdf4b0d1eb36284a0e9393d06b2ac0216a7ce7a4a8d6ffaf710b'),\n",
       "  HexBytes('0xde93f2bcdaebc9c3607a65af488460d4b564d2597aad65a9db1aa17e21ba9808'),\n",
       "  HexBytes('0x06229508c1935f50e8bafe89c96088a1dc65c3da8e94390f0e325bc568b88cf5'),\n",
       "  HexBytes('0xe398ecd072e8e8d44b69995d0403aafa36912f176d8adc5e66117cc6cb1c4e6c'),\n",
       "  HexBytes('0xd255c0b62eb5e895fb3a37df076ba166bb38a8520049afd8634b1aa225e9f1ad'),\n",
       "  HexBytes('0xa67648b4c043104c9b6e9287bec849e00b27a07133f73c77647bc1b4ffdb8687'),\n",
       "  HexBytes('0x6893d8b79347733d7f64fff5443bff0cba241dbf18f28cc65216bd258490eab9'),\n",
       "  HexBytes('0xda4677eba12babb1c26bbfa0741b07ae037d46cae20217be2326a552bef9f27b'),\n",
       "  HexBytes('0x3033a7f9e85af79b1d20bf45d0a78ea7786028b30bf3f7d54c50247b1b744cae'),\n",
       "  HexBytes('0xcae27071a15171d55b5a3f2c7d648a1f08a2bf12fc23e2669530157e4779be1b'),\n",
       "  HexBytes('0x69b9d9f01ba28a9092b1616e72bc5da588ee9d491d1e19936e35ce5d139b14ec'),\n",
       "  HexBytes('0x2bca708c60a74c6cf0dc99bb4161d6a1d02fd44b76880d71d1b204414d9c33f9'),\n",
       "  HexBytes('0xbd0ef9aee85b9dd0b137594798954b21767aaa1d32104ae86653c9c88c9b8a18'),\n",
       "  HexBytes('0x688a40d823958075599be53de1f9de50179f1340d45d7842b3b4f4697aadd119'),\n",
       "  HexBytes('0x9d0e496487805cc17d2ccfb90220ab388158ecdb36c80f19756060653c9482a0'),\n",
       "  HexBytes('0x03eb9f45f6866e16ad0faf194fb79229fbd2d8a934a1ac41d913a34ec139dda6'),\n",
       "  HexBytes('0x8258043e08576f6962a93df00e558ffc914032ea34fecfcc5242218ab1bda910'),\n",
       "  HexBytes('0x74458fac086ae42a2673393939b68bef6c94bc242b8dfdcc729cf33fe861ff13'),\n",
       "  HexBytes('0xb82bea54c2c06d3eae5ce74dc112aed887fe30cd49684f7c77a3af68bb8f4f30'),\n",
       "  HexBytes('0x25fc9ec1f70b7ed2a8695a1db0c7cc0999016228f59488ba259b520d14fac44e'),\n",
       "  HexBytes('0x41633ba379d877c0e5fdd178ba78d62a3aba2c9138845ac5a3146abc358e1b8b'),\n",
       "  HexBytes('0xffd9d10405eae3953659ac1150eb1d79239338f2abfc39d24f047371bb4b9c31'),\n",
       "  HexBytes('0x35b7894c8869a19264704cd561a425d149fcdfaca856304092ca430d6775ae00'),\n",
       "  HexBytes('0xfa288dbba20ba25c1c5ca8e739e4ce5eb914bc11da779fe96bca7937dafaca90'),\n",
       "  HexBytes('0xd20b199a58863a37e789fb2cde714b491232bfc584b90fb96d133aa03d42296e'),\n",
       "  HexBytes('0x3015e02c02db0a42ba68bb8c0dc5638643e67222fb185c248e8a2d10965d9207'),\n",
       "  HexBytes('0x22c176f1c156f880e0d25b34e5360556bf2171bd99ae57407b88e74c3acbe633'),\n",
       "  HexBytes('0x55e3754798ec3a3d4eb07a2549660b49d7a58f962b1fe2c2832052a930173bc6'),\n",
       "  HexBytes('0xd2a2674deffe6a7e04a38674873c80ea84228f62a149d3bfb6df0566537b6b9b'),\n",
       "  HexBytes('0xeb3e025235e84e4122bff78cfaad78dfdedaabfec9b0b3d4aee9a3283c789a9a'),\n",
       "  HexBytes('0x8494d74f74ec8a08b34eb8321b4e9e4134fae3212af1e1ef1ef768ca2a1095ee'),\n",
       "  HexBytes('0xf0944404af327a94a6574c47a97ccdd7d564f85920d812c6c23d6ad2632cd009'),\n",
       "  HexBytes('0x4920c4456bf91fd2805fc675a7d33f55a6a04928d9594b98ce2d8609cb6e0f0e'),\n",
       "  HexBytes('0x22cd2614d1f5836ead3dbc0335fde962e6c733552d3f2f15d1f6c9d9c8d11c07'),\n",
       "  HexBytes('0x9536c137be6688432faa8718ee80e974d195a25a04a18e28b451f8d63807d7f6'),\n",
       "  HexBytes('0xff7fc1405a6b13e582baf0cde50daeb0cd4c06d3f2e1d2ef32e866e1e8a4ffa8'),\n",
       "  HexBytes('0xa73e4f99cf5d4d84f658899f6e3be329909db8737e8aa9f9842b2ae653162dc4'),\n",
       "  HexBytes('0xe7352dbcd8d3977bb913352f0b95a79fb108e3aac7a6d2eb8f92a06bb7344159'),\n",
       "  HexBytes('0xf3389397fd7911d81a015fb5b6033f80b1aa50462306783f51defb217a806715'),\n",
       "  HexBytes('0x21306d552106e231a12de5b5415718e114e41c9a462c1126d4c9fd2513856082'),\n",
       "  HexBytes('0x44c552b4313f91cbdf3ec0a7e2e0a7f124f61757eb472b1f39d704bfcc658f49'),\n",
       "  HexBytes('0xf54633c1cd738e93287e2d17491c3ee38d4df565c4ea5d5d1f8f10edca5cbf71'),\n",
       "  HexBytes('0x1fe6052ea8d64a52c316f4ab165bd35a8a6fdc5d8b7517c167cfd40eab3052cd'),\n",
       "  HexBytes('0x05bd2a9ea5ecbbdc5dfe74667744c1c176a43577c4d5a2fcf9319eda4ede985f'),\n",
       "  HexBytes('0x2bb435cc422c801f6a75d6f049e960c49150e4fc830da15ee2b1b024ed4f1719'),\n",
       "  HexBytes('0x6861f68b39a8b6ef5fda794801028690869df9b5f1f022b56cee85cd6b560886'),\n",
       "  HexBytes('0x9ce67bd3337c555bc9377b5b35ea2975a76fff83bb6fd17ce69239418607c80f'),\n",
       "  HexBytes('0x3b2725b5aa393841ff119237adaf2463444db830d8afc35ec7805c9dbbe26654'),\n",
       "  HexBytes('0x7dcd9ca89fc290c9f3c37032ea438e06d67ed5e004e15eb74e9b5c0ea9638dad'),\n",
       "  HexBytes('0x917a82a497a6246701ed364fb286fcfbf7e365c7b71bf52879d789307339fa4a'),\n",
       "  HexBytes('0x38076663ed5a9c0b884e3d46e02f69b5a94f03d4d9f42cf7f1add2f50639e6b6'),\n",
       "  HexBytes('0x4515c4009213b02e566f40ef3ddc03053615c3a86d357d8850f4f5aa3ee48684'),\n",
       "  HexBytes('0xea87a1e41295717cdad7749993328f1db170285d16f19baa21da340611be82d0'),\n",
       "  HexBytes('0xbc04fbc83da55016d817d8a71f5272d171c353baf9ecaba1fdc7b1fb74e2699b'),\n",
       "  HexBytes('0x4d46592cc785ee4eddef42df303ce741c3caf04e83181e9f039b6b1ecc06b8f7'),\n",
       "  HexBytes('0xc242532d38f807b638db2f43a729fd291730855b84048f2f746bf436b08f71fe'),\n",
       "  HexBytes('0x45c404daa13fc933f8edc150d7b57d8aae7b97f2e156959a9120b2c9a285b22c'),\n",
       "  HexBytes('0x22f1c92375cc9179256bad4f90a8bb989487ca0aa515e196e06f9d975dfe8958'),\n",
       "  HexBytes('0x089eeb81f4443566e5ac086e25f8efa0a3ab29fe01562c4f8806292781f1fc27'),\n",
       "  HexBytes('0x6d2915934b645485fd8545a9479347d442a2064feaf78c9e96ceb70a61c7bb2e'),\n",
       "  HexBytes('0xe9a88a26349d4377fc9b9691e480a74dad9a8fe12cc1d8e792d3747ed44ab928'),\n",
       "  HexBytes('0x330215ae2d15b02e9d22fad018eeadf553c6016d4c23164cfe3b0fe64515c1da'),\n",
       "  HexBytes('0x1bd39410bd766760c54bb7d391632177402d2f6e08b36b62beb9593ffa0df4d8'),\n",
       "  HexBytes('0x6a9c7c664f3d299ed6babaec32db7f2573fe3e5b08e4c13b035cadf769c56b7d'),\n",
       "  HexBytes('0x9efd71cda264039bec5dc91ff2d0e9e1d8774dbd50e29751a0d2373357c668cf'),\n",
       "  HexBytes('0x37a0870a40c3cad11180f8cf52ed343acb6c85989e334461bac0edb5b0113d2f'),\n",
       "  HexBytes('0x9f6c37fe297364ce226fba6fef2dfbfa83d5a8e8636060531a5591b8089f05f0'),\n",
       "  HexBytes('0x36bd3fd167bd13a1b9b2c57ad9e4fe9231c45a0081949f9ec09f01b3c7476313'),\n",
       "  HexBytes('0xf0b4c3aea86656ad9ac541a94f363ce4135b0229622def4113aab4cf693699d8'),\n",
       "  HexBytes('0xe55fa2b33d0f62ea9d4bf2895eb160f88647bc430c988656d28468d6acdedd90'),\n",
       "  HexBytes('0x82340bed54a22458da19a4f4857450193064157350b564eb14f56c34e7dd015d'),\n",
       "  HexBytes('0x75ecb51c186ea877b61aaaac609e59e41cf1b1e50e210140c23279ef097bc016'),\n",
       "  HexBytes('0x1c72362b6f0b9d0922a535800174703bd873a210515063875071e27e2b89f3a5'),\n",
       "  HexBytes('0xc66e72327c7c85007232809eb1ef31637d2cc4b59d18f110c6b3bba0b761389a')],\n",
       " 'transactionsRoot': HexBytes('0x388565e6e66923976d652cc5a6e4550b53f0c437fb8d395a1868a2d63e0f0e66'),\n",
       " 'uncles': [],\n",
       " 'withdrawals': [AttributeDict({'address': '0xB9D7934878B5FB9610B3fE8A5e441e8fad7E293f',\n",
       "   'amount': 16364628,\n",
       "   'index': 18967206,\n",
       "   'validatorIndex': 387945}),\n",
       "  AttributeDict({'address': '0xB9D7934878B5FB9610B3fE8A5e441e8fad7E293f',\n",
       "   'amount': 16274364,\n",
       "   'index': 18967207,\n",
       "   'validatorIndex': 387946}),\n",
       "  AttributeDict({'address': '0xB9D7934878B5FB9610B3fE8A5e441e8fad7E293f',\n",
       "   'amount': 16342865,\n",
       "   'index': 18967208,\n",
       "   'validatorIndex': 387947}),\n",
       "  AttributeDict({'address': '0xB9D7934878B5FB9610B3fE8A5e441e8fad7E293f',\n",
       "   'amount': 16322006,\n",
       "   'index': 18967209,\n",
       "   'validatorIndex': 387948}),\n",
       "  AttributeDict({'address': '0xB9D7934878B5FB9610B3fE8A5e441e8fad7E293f',\n",
       "   'amount': 16313842,\n",
       "   'index': 18967210,\n",
       "   'validatorIndex': 387949}),\n",
       "  AttributeDict({'address': '0xB9D7934878B5FB9610B3fE8A5e441e8fad7E293f',\n",
       "   'amount': 16296118,\n",
       "   'index': 18967211,\n",
       "   'validatorIndex': 387950}),\n",
       "  AttributeDict({'address': '0xB9D7934878B5FB9610B3fE8A5e441e8fad7E293f',\n",
       "   'amount': 16345768,\n",
       "   'index': 18967212,\n",
       "   'validatorIndex': 387951}),\n",
       "  AttributeDict({'address': '0xB9D7934878B5FB9610B3fE8A5e441e8fad7E293f',\n",
       "   'amount': 16354966,\n",
       "   'index': 18967213,\n",
       "   'validatorIndex': 387952}),\n",
       "  AttributeDict({'address': '0xB9D7934878B5FB9610B3fE8A5e441e8fad7E293f',\n",
       "   'amount': 16386539,\n",
       "   'index': 18967214,\n",
       "   'validatorIndex': 387953}),\n",
       "  AttributeDict({'address': '0xB9D7934878B5FB9610B3fE8A5e441e8fad7E293f',\n",
       "   'amount': 16356874,\n",
       "   'index': 18967215,\n",
       "   'validatorIndex': 387954}),\n",
       "  AttributeDict({'address': '0xB9D7934878B5FB9610B3fE8A5e441e8fad7E293f',\n",
       "   'amount': 16359626,\n",
       "   'index': 18967216,\n",
       "   'validatorIndex': 387955}),\n",
       "  AttributeDict({'address': '0xB9D7934878B5FB9610B3fE8A5e441e8fad7E293f',\n",
       "   'amount': 16358502,\n",
       "   'index': 18967217,\n",
       "   'validatorIndex': 387956}),\n",
       "  AttributeDict({'address': '0xB9D7934878B5FB9610B3fE8A5e441e8fad7E293f',\n",
       "   'amount': 16328317,\n",
       "   'index': 18967218,\n",
       "   'validatorIndex': 387957}),\n",
       "  AttributeDict({'address': '0xB9D7934878B5FB9610B3fE8A5e441e8fad7E293f',\n",
       "   'amount': 16434295,\n",
       "   'index': 18967219,\n",
       "   'validatorIndex': 387958}),\n",
       "  AttributeDict({'address': '0xB9D7934878B5FB9610B3fE8A5e441e8fad7E293f',\n",
       "   'amount': 16338873,\n",
       "   'index': 18967220,\n",
       "   'validatorIndex': 387959}),\n",
       "  AttributeDict({'address': '0xB9D7934878B5FB9610B3fE8A5e441e8fad7E293f',\n",
       "   'amount': 56502763,\n",
       "   'index': 18967221,\n",
       "   'validatorIndex': 387960})],\n",
       " 'withdrawalsRoot': HexBytes('0x37b56e52cdfcf529139ea979b2f09b090baf31fabf4597999ebcab816fd5aba7')})"
      ]
     },
     "execution_count": 13,
     "metadata": {},
     "output_type": "execute_result"
    }
   ],
   "source": [
    "res = w3.eth.get_block('latest')\n",
    "res"
   ]
  },
  {
   "cell_type": "code",
   "execution_count": 14,
   "metadata": {},
   "outputs": [
    {
     "data": {
      "text/plain": [
       "18220411"
      ]
     },
     "execution_count": 14,
     "metadata": {},
     "output_type": "execute_result"
    }
   ],
   "source": [
    "last_block_num = res.number\n",
    "last_block_num"
   ]
  },
  {
   "cell_type": "code",
   "execution_count": 16,
   "metadata": {},
   "outputs": [
    {
     "data": {
      "text/plain": [
       "HexBytes('0x6ef474b2856b398414fb2d5e7da17bd678441c069be7833cc81bb5cc2887f07a')"
      ]
     },
     "execution_count": 16,
     "metadata": {},
     "output_type": "execute_result"
    }
   ],
   "source": [
    "tx_id = res.transactions[0]\n",
    "tx_id"
   ]
  },
  {
   "cell_type": "code",
   "execution_count": 17,
   "metadata": {},
   "outputs": [
    {
     "data": {
      "text/plain": [
       "AttributeDict({'accessList': [],\n",
       " 'blockHash': HexBytes('0xb626e0cd31b72ae10780fceac4defc2f23c709eecce367f734c74cbc1077d145'),\n",
       " 'blockNumber': 18220411,\n",
       " 'chainId': 1,\n",
       " 'from': '0xF0923A9172A220f647A0100F4E9f4Fe62CBC1464',\n",
       " 'gas': 738854,\n",
       " 'gasPrice': 20218926527,\n",
       " 'hash': HexBytes('0x6ef474b2856b398414fb2d5e7da17bd678441c069be7833cc81bb5cc2887f07a'),\n",
       " 'input': '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',\n",
       " 'maxFeePerGas': 24330000000,\n",
       " 'maxPriorityFeePerGas': 90000000,\n",
       " 'nonce': 6,\n",
       " 'r': HexBytes('0xbae2689e579c9e94a502d297fa243a14e59d711d551241cab71e9f27fb89108b'),\n",
       " 's': HexBytes('0x2770f7364873a29d2f36708a07cb4742d7ba4f40cd32d04a584eb6e9ddd8ab84'),\n",
       " 'to': '0xDEF171Fe48CF0115B1d80b88dc8eAB59176FEe57',\n",
       " 'transactionIndex': 0,\n",
       " 'type': 2,\n",
       " 'v': 1,\n",
       " 'value': 0,\n",
       " 'yParity': '0x1'})"
      ]
     },
     "execution_count": 17,
     "metadata": {},
     "output_type": "execute_result"
    }
   ],
   "source": [
    "tx = w3.eth.get_transaction(tx_id)\n",
    "tx"
   ]
  },
  {
   "cell_type": "code",
   "execution_count": 18,
   "metadata": {},
   "outputs": [
    {
     "data": {
      "text/plain": [
       "'0xF0923A9172A220f647A0100F4E9f4Fe62CBC1464'"
      ]
     },
     "execution_count": 18,
     "metadata": {},
     "output_type": "execute_result"
    }
   ],
   "source": [
    "tx['from']"
   ]
  },
  {
   "cell_type": "code",
   "execution_count": 19,
   "metadata": {},
   "outputs": [
    {
     "data": {
      "text/plain": [
       "'0xDEF171Fe48CF0115B1d80b88dc8eAB59176FEe57'"
      ]
     },
     "execution_count": 19,
     "metadata": {},
     "output_type": "execute_result"
    }
   ],
   "source": [
    "tx['to']"
   ]
  },
  {
   "cell_type": "code",
   "execution_count": 20,
   "metadata": {},
   "outputs": [
    {
     "data": {
      "text/plain": [
       "0"
      ]
     },
     "execution_count": 20,
     "metadata": {},
     "output_type": "execute_result"
    }
   ],
   "source": [
    "tx['value']"
   ]
  },
  {
   "cell_type": "code",
   "execution_count": 21,
   "metadata": {},
   "outputs": [
    {
     "data": {
      "text/plain": [
       "0"
      ]
     },
     "execution_count": 21,
     "metadata": {},
     "output_type": "execute_result"
    }
   ],
   "source": [
    "w3.from_wei(tx['value'], 'ether')"
   ]
  },
  {
   "cell_type": "code",
   "execution_count": 24,
   "metadata": {},
   "outputs": [],
   "source": [
    "## 1.5min for 3 blocks\n",
    "limit = 100\n",
    "txs = []\n",
    "# last_block_num = X\n",
    "for idx in range(limit):\n",
    "    block_num = last_block_num - idx\n",
    "    res = w3.eth.get_block(block_num)\n",
    "    for idx2, tx_hash in enumerate(res.transactions):\n",
    "        tx_details = w3.eth.get_transaction(tx_hash)\n",
    "        txs.append([\n",
    "            tx_details['from'],\n",
    "            tx_details['to'],\n",
    "            tx_details['value']\n",
    "        ])\n"
   ]
  },
  {
   "cell_type": "code",
   "execution_count": 23,
   "metadata": {},
   "outputs": [
    {
     "data": {
      "text/plain": [
       "562"
      ]
     },
     "execution_count": 23,
     "metadata": {},
     "output_type": "execute_result"
    }
   ],
   "source": [
    "len(txs)"
   ]
  },
  {
   "cell_type": "code",
   "execution_count": 39,
   "metadata": {},
   "outputs": [
    {
     "data": {
      "text/plain": [
       "['0x77ad3a15b78101883AF36aD4A875e17c86AC65d1',\n",
       " '0x00000000A991C429eE2Ec6df19d40fe0c80088B8',\n",
       " 100168894]"
      ]
     },
     "execution_count": 39,
     "metadata": {},
     "output_type": "execute_result"
    }
   ],
   "source": [
    "txs[0]"
   ]
  },
  {
   "cell_type": "markdown",
   "metadata": {},
   "source": [
    "#### Task\n",
    "\n",
    "1) Create a network from the data collected.\n",
    "2) Compute simple network statistics.\n",
    "3) Plot it, coloring node by a centrality measure of your choice.\n",
    "\n"
   ]
  }
 ],
 "metadata": {
  "kernelspec": {
   "display_name": "base",
   "language": "python",
   "name": "python3"
  },
  "language_info": {
   "codemirror_mode": {
    "name": "ipython",
    "version": 3
   },
   "file_extension": ".py",
   "mimetype": "text/x-python",
   "name": "python",
   "nbconvert_exporter": "python",
   "pygments_lexer": "ipython3",
   "version": "3.9.13"
  },
  "orig_nbformat": 4
 },
 "nbformat": 4,
 "nbformat_minor": 2
}
