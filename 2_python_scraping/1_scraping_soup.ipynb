{
 "cells": [
  {
   "cell_type": "markdown",
   "metadata": {},
   "source": [
    "# Basic Scraping with Beautiful Soup\n",
    "\n",
    "_Note: adapted from Intro to Scientific Programming's exercises_\n",
    "\n",
    "\n",
    "### HTML\n",
    "\n",
    "HTML - Hyper Text Markup Language (https://www.w3schools.com/html/html_intro.asp)\n",
    "\n",
    "HTML elements are defined by tags\n",
    "```\n",
    "<b>Bold text</b>\n",
    "```\n",
    "Tags have attributes\n",
    "```\n",
    "<a href=\"https://rwth-aachen.de\">RWTH Aachen</a>\n",
    "```\n",
    "Tags could be nested\n",
    "```\n",
    "<div id=\"main\">\n",
    "    <div class=\"sub\">\n",
    "        <a href=\"https://rwth-aachen.de\">RWTH Aachen</a>\n",
    "    </div>\n",
    "    <div class=\"sub\">\n",
    "        <a href=\"https://hse.ru\">HSE University</a>\n",
    "    </div>\n",
    "</div>\n",
    "<div id=\"footer\">\n",
    "</div>\n",
    "```\n",
    "HTML-elements could be selected by name\n",
    "```\n",
    "a\n",
    "```\n",
    "By ID\n",
    "```\n",
    "#main\n",
    "```\n",
    "By class\n",
    "```\n",
    ".sub\n",
    "```\n",
    "Nested selection\n",
    "```\n",
    "#main .sub\n",
    "```\n",
    "\n",
    "[web page example](https://www.rwth-aachen.de/cms/root/Studium/Vor-dem-Studium/Studiengaenge/~yev/Liste-Aktuelle-Studiengaenge/lidx/1/?page=1&aaaaaaaaaaaaaum=aaaaaaaaaaaaxqh&showall=1)"
   ]
  },
  {
   "cell_type": "markdown",
   "metadata": {},
   "source": [
    "### Beautiful Soup\n",
    "\n",
    "[BeautifulSoup library](https://www.crummy.com/software/BeautifulSoup/bs4/doc/)"
   ]
  },
  {
   "cell_type": "code",
   "execution_count": 3,
   "metadata": {},
   "outputs": [
    {
     "name": "stdout",
     "output_type": "stream",
     "text": [
      "Collecting beautifulsoup4\n",
      "  Downloading beautifulsoup4-4.12.2-py3-none-any.whl (142 kB)\n",
      "     ---------------------------------------- 0.0/143.0 kB ? eta -:--:--\n",
      "     -- ------------------------------------- 10.2/143.0 kB ? eta -:--:--\n",
      "     ----------------------------------- -- 133.1/143.0 kB 1.6 MB/s eta 0:00:01\n",
      "     -------------------------------------- 143.0/143.0 kB 1.7 MB/s eta 0:00:00\n",
      "Collecting soupsieve>1.2 (from beautifulsoup4)\n",
      "  Obtaining dependency information for soupsieve>1.2 from https://files.pythonhosted.org/packages/4c/f3/038b302fdfbe3be7da016777069f26ceefe11a681055ea1f7817546508e3/soupsieve-2.5-py3-none-any.whl.metadata\n",
      "  Downloading soupsieve-2.5-py3-none-any.whl.metadata (4.7 kB)\n",
      "Downloading soupsieve-2.5-py3-none-any.whl (36 kB)\n",
      "Installing collected packages: soupsieve, beautifulsoup4\n",
      "Successfully installed beautifulsoup4-4.12.2 soupsieve-2.5\n"
     ]
    }
   ],
   "source": [
    "!pip install beautifulsoup4\n"
   ]
  },
  {
   "cell_type": "code",
   "execution_count": 1,
   "metadata": {},
   "outputs": [
    {
     "data": {
      "text/plain": [
       "(\n",
       " <html>\n",
       " <head>\n",
       " <title>Test html-document</title>\n",
       " </head>\n",
       " <body>\n",
       " <div id=\"main\">\n",
       " <div class=\"sub\">\n",
       " <a href=\"https://uni-mannheim.de\">Uni Mannheim</a>\n",
       " </div>\n",
       " <div class=\"sub\">\n",
       " <a href=\"https://rwth-aachen.de\">RWTH Aachen</a>\n",
       " </div>\n",
       " <div class=\"sub\">\n",
       " <a href=\"https://uni-heidelberg.de\">Uni Heidelberg</a></div>\n",
       " </div>\n",
       " <div id=\"footer\"></div>\n",
       " </body>\n",
       " </html>,\n",
       " bs4.BeautifulSoup)"
      ]
     },
     "execution_count": 1,
     "metadata": {},
     "output_type": "execute_result"
    }
   ],
   "source": [
    "\n",
    "html_doc = \"\"\"\n",
    "<html>\n",
    "    <head>\n",
    "        <title>Test html-document</title>\n",
    "    </head>\n",
    "    <body>\n",
    "        <div id=\"main\">\n",
    "        <div class=\"sub\">\n",
    "            <a href=\"https://uni-mannheim.de\">Uni Mannheim</a>\n",
    "        </div>\n",
    "        <div class=\"sub\">\n",
    "            <a href=\"https://rwth-aachen.de\">RWTH Aachen</a>\n",
    "        </div>\n",
    "        <div class=\"sub\">\n",
    "            <a href=\"https://uni-heidelberg.de\">Uni Heidelberg</a></div>\n",
    "        </div>\n",
    "        <div id=\"footer\"></div>\n",
    "    </body>\n",
    "</html>\n",
    "\"\"\"\n",
    "\n",
    "from bs4 import BeautifulSoup\n",
    "soup = BeautifulSoup(html_doc, 'html.parser')\n",
    "\n",
    "soup, type(soup)"
   ]
  },
  {
   "cell_type": "code",
   "execution_count": 2,
   "metadata": {},
   "outputs": [
    {
     "data": {
      "text/plain": [
       "'Test html-document'"
      ]
     },
     "execution_count": 2,
     "metadata": {},
     "output_type": "execute_result"
    }
   ],
   "source": [
    "soup.html.head.title\n",
    "soup.html.head.title.text"
   ]
  },
  {
   "cell_type": "code",
   "execution_count": 3,
   "metadata": {},
   "outputs": [
    {
     "name": "stdout",
     "output_type": "stream",
     "text": [
      "5\n"
     ]
    }
   ],
   "source": [
    "print(len(soup.select('div.sub')))"
   ]
  },
  {
   "cell_type": "code",
   "execution_count": 4,
   "metadata": {},
   "outputs": [
    {
     "name": "stdout",
     "output_type": "stream",
     "text": [
      "3\n"
     ]
    }
   ],
   "source": [
    "\n",
    "print(len(soup.select('#main div')))\n",
    "print(len(soup.select('#sub div')))"
   ]
  },
  {
   "cell_type": "code",
   "execution_count": 5,
   "metadata": {},
   "outputs": [
    {
     "name": "stdout",
     "output_type": "stream",
     "text": [
      "<html>\n",
      " <head>\n",
      "  <title>\n",
      "   Test html-document\n",
      "  </title>\n",
      " </head>\n",
      " <body>\n",
      "  <div id=\"main\">\n",
      "   <div class=\"sub\">\n",
      "    <a href=\"https://uni-mannheim.de\">\n",
      "     Uni Mannheim\n",
      "    </a>\n",
      "   </div>\n",
      "   <div class=\"sub\">\n",
      "    <a href=\"https://rwth-aachen.de\">\n",
      "     RWTH Aachen\n",
      "    </a>\n",
      "   </div>\n",
      "   <div class=\"sub\">\n",
      "    <a href=\"https://uni-heidelberg.de\">\n",
      "     Uni Heidelberg\n",
      "    </a>\n",
      "   </div>\n",
      "  </div>\n",
      "  <div id=\"footer\">\n",
      "  </div>\n",
      " </body>\n",
      "</html>\n",
      "\n"
     ]
    }
   ],
   "source": [
    "print(soup.prettify())"
   ]
  },
  {
   "cell_type": "code",
   "execution_count": 10,
   "metadata": {},
   "outputs": [
    {
     "data": {
      "text/plain": [
       "[<a href=\"https://uni-mannheim.de\">Uni Mannheim</a>,\n",
       " <a href=\"https://rwth-aachen.de\">RWTH Aachen</a>,\n",
       " <a href=\"https://uni-heidelberg.de\">Uni Heidelberg</a>]"
      ]
     },
     "execution_count": 10,
     "metadata": {},
     "output_type": "execute_result"
    }
   ],
   "source": [
    "soup.select('a')"
   ]
  },
  {
   "cell_type": "code",
   "execution_count": 11,
   "metadata": {},
   "outputs": [
    {
     "data": {
      "text/plain": [
       "(<a href=\"https://uni-mannheim.de\">Uni Mannheim</a>, bs4.element.Tag)"
      ]
     },
     "execution_count": 11,
     "metadata": {},
     "output_type": "execute_result"
    }
   ],
   "source": [
    "first = soup.select('a')[0]\n",
    "first, type(first)"
   ]
  },
  {
   "cell_type": "code",
   "execution_count": 13,
   "metadata": {},
   "outputs": [
    {
     "data": {
      "text/plain": [
       "<div class=\"sub\">\n",
       "<a href=\"https://uni-mannheim.de\">Uni Mannheim</a>\n",
       "</div>"
      ]
     },
     "execution_count": 13,
     "metadata": {},
     "output_type": "execute_result"
    }
   ],
   "source": [
    "first.parent"
   ]
  },
  {
   "cell_type": "code",
   "execution_count": 14,
   "metadata": {},
   "outputs": [
    {
     "name": "stdout",
     "output_type": "stream",
     "text": [
      "<class 'bs4.element.Tag'> div\n",
      "<class 'bs4.element.Tag'> div\n",
      "<class 'bs4.element.Tag'> body\n",
      "<class 'bs4.element.Tag'> html\n",
      "<class 'bs4.BeautifulSoup'> [document]\n"
     ]
    }
   ],
   "source": [
    "for el in first.parents:\n",
    "    print(type(el), el.name)"
   ]
  },
  {
   "cell_type": "code",
   "execution_count": null,
   "metadata": {},
   "outputs": [],
   "source": [
    "for el in first.parent.parent.children:\n",
    "    print(el)"
   ]
  },
  {
   "cell_type": "code",
   "execution_count": null,
   "metadata": {},
   "outputs": [],
   "source": [
    "## Empty text is also an HTML node, so we need to repeat next_sibling twice\n",
    "first.parent.next_sibling.next_sibling"
   ]
  },
  {
   "cell_type": "code",
   "execution_count": null,
   "metadata": {},
   "outputs": [],
   "source": [
    "soup.select('#main')"
   ]
  },
  {
   "cell_type": "code",
   "execution_count": null,
   "metadata": {},
   "outputs": [],
   "source": [
    "soup.select('.sub')"
   ]
  },
  {
   "cell_type": "code",
   "execution_count": 15,
   "metadata": {},
   "outputs": [
    {
     "data": {
      "text/plain": [
       "[<div class=\"sub\">\n",
       " <a href=\"https://uni-mannheim.de\">Uni Mannheim</a>\n",
       " </div>,\n",
       " <div class=\"sub\">\n",
       " <a href=\"https://rwth-aachen.de\">RWTH Aachen</a>\n",
       " </div>,\n",
       " <div class=\"sub\">\n",
       " <a href=\"https://uni-heidelberg.de\">Uni Heidelberg</a></div>]"
      ]
     },
     "execution_count": 15,
     "metadata": {},
     "output_type": "execute_result"
    }
   ],
   "source": [
    "soup.find_all('div', class_ = 'sub')"
   ]
  },
  {
   "cell_type": "code",
   "execution_count": null,
   "metadata": {},
   "outputs": [],
   "source": []
  }
 ],
 "metadata": {
  "kernelspec": {
   "display_name": "Python 3.9.1 64-bit",
   "language": "python",
   "name": "python3"
  },
  "language_info": {
   "codemirror_mode": {
    "name": "ipython",
    "version": 3
   },
   "file_extension": ".py",
   "mimetype": "text/x-python",
   "name": "python",
   "nbconvert_exporter": "python",
   "pygments_lexer": "ipython3",
   "version": "3.11.5"
  },
  "vscode": {
   "interpreter": {
    "hash": "c32e70da788b7e7a251586b987d2c569d373765eb2af3ced0674c402bf99c5a2"
   }
  }
 },
 "nbformat": 4,
 "nbformat_minor": 4
}
