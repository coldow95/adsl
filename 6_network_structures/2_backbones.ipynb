{
 "cells": [
  {
   "cell_type": "markdown",
   "metadata": {},
   "source": [
    "## Simmelian Backbones"
   ]
  },
  {
   "cell_type": "code",
   "execution_count": 1,
   "metadata": {},
   "outputs": [
    {
     "name": "stdout",
     "output_type": "stream",
     "text": [
      "Collecting networkit\n",
      "  Downloading networkit-10.0-cp39-cp39-win_amd64.whl (21.0 MB)\n",
      "Requirement already satisfied: numpy in c:\\users\\stefa\\anaconda3\\lib\\site-packages (from networkit) (1.21.5)\n",
      "Requirement already satisfied: scipy in c:\\users\\stefa\\anaconda3\\lib\\site-packages (from networkit) (1.7.3)\n",
      "Installing collected packages: networkit\n",
      "Successfully installed networkit-10.0\n"
     ]
    }
   ],
   "source": [
    "#!pip install networkit"
   ]
  },
  {
   "cell_type": "markdown",
   "metadata": {},
   "source": [
    "#### Run the code! \n",
    "\n",
    "It expects an edgelist file (with header) and outputs the backbone.\n",
    "\n",
    "For all input parameters see:\n",
    "https://github.com/CSC-ASU/simmelian-backbone"
   ]
  },
  {
   "cell_type": "code",
   "execution_count": 10,
   "metadata": {},
   "outputs": [
    {
     "name": "stdout",
     "output_type": "stream",
     "text": [
      "removing multiedges\n",
      "--- 0.029793262481689453 seconds ---\n",
      "Quadrangle score\n",
      "--- 0.559030294418335 seconds ---\n",
      "connectivity\n",
      "--- 0.6696736812591553 seconds ---\n",
      "saving file\n",
      "--- 6.3428661823272705 seconds ---\n",
      "--- Total time taken: 8.804473161697388 ---\n"
     ]
    }
   ],
   "source": [
    "!python backbones.py --verbose=yes --edgelist=backbones/input.csv --outputlist=backbones/backbones.csv"
   ]
  },
  {
   "cell_type": "markdown",
   "metadata": {},
   "source": [
    "#### Analysis"
   ]
  },
  {
   "cell_type": "code",
   "execution_count": 3,
   "metadata": {},
   "outputs": [],
   "source": [
    "import networkx as nx\n",
    "import pandas as pd"
   ]
  },
  {
   "cell_type": "code",
   "execution_count": 11,
   "metadata": {},
   "outputs": [],
   "source": [
    "df = pd.read_csv('backbones/backbones.csv')"
   ]
  },
  {
   "cell_type": "code",
   "execution_count": 12,
   "metadata": {},
   "outputs": [
    {
     "data": {
      "text/html": [
       "<div>\n",
       "<style scoped>\n",
       "    .dataframe tbody tr th:only-of-type {\n",
       "        vertical-align: middle;\n",
       "    }\n",
       "\n",
       "    .dataframe tbody tr th {\n",
       "        vertical-align: top;\n",
       "    }\n",
       "\n",
       "    .dataframe thead th {\n",
       "        text-align: right;\n",
       "    }\n",
       "</style>\n",
       "<table border=\"1\" class=\"dataframe\">\n",
       "  <thead>\n",
       "    <tr style=\"text-align: right;\">\n",
       "      <th></th>\n",
       "      <th>d1</th>\n",
       "      <th>d2</th>\n",
       "      <th>weight</th>\n",
       "      <th>redundancy (quadrilateral)</th>\n",
       "      <th>backbone</th>\n",
       "    </tr>\n",
       "  </thead>\n",
       "  <tbody>\n",
       "    <tr>\n",
       "      <th>0</th>\n",
       "      <td>foundersdao.eth</td>\n",
       "      <td>foundersdao.eth</td>\n",
       "      <td>20441</td>\n",
       "      <td>1.000000</td>\n",
       "      <td>False</td>\n",
       "    </tr>\n",
       "    <tr>\n",
       "      <th>1</th>\n",
       "      <td>foundersdao.eth</td>\n",
       "      <td>doodles.eth</td>\n",
       "      <td>51</td>\n",
       "      <td>0.326241</td>\n",
       "      <td>False</td>\n",
       "    </tr>\n",
       "    <tr>\n",
       "      <th>2</th>\n",
       "      <td>foundersdao.eth</td>\n",
       "      <td>apecoin.eth</td>\n",
       "      <td>1997</td>\n",
       "      <td>0.273973</td>\n",
       "      <td>False</td>\n",
       "    </tr>\n",
       "    <tr>\n",
       "      <th>3</th>\n",
       "      <td>foundersdao.eth</td>\n",
       "      <td>miceops.eth</td>\n",
       "      <td>53</td>\n",
       "      <td>0.264228</td>\n",
       "      <td>False</td>\n",
       "    </tr>\n",
       "    <tr>\n",
       "      <th>4</th>\n",
       "      <td>foundersdao.eth</td>\n",
       "      <td>moonbankvoting.eth</td>\n",
       "      <td>3223</td>\n",
       "      <td>0.375000</td>\n",
       "      <td>False</td>\n",
       "    </tr>\n",
       "  </tbody>\n",
       "</table>\n",
       "</div>"
      ],
      "text/plain": [
       "                d1                  d2  weight  redundancy (quadrilateral)  \\\n",
       "0  foundersdao.eth     foundersdao.eth   20441                    1.000000   \n",
       "1  foundersdao.eth         doodles.eth      51                    0.326241   \n",
       "2  foundersdao.eth         apecoin.eth    1997                    0.273973   \n",
       "3  foundersdao.eth         miceops.eth      53                    0.264228   \n",
       "4  foundersdao.eth  moonbankvoting.eth    3223                    0.375000   \n",
       "\n",
       "   backbone  \n",
       "0     False  \n",
       "1     False  \n",
       "2     False  \n",
       "3     False  \n",
       "4     False  "
      ]
     },
     "execution_count": 12,
     "metadata": {},
     "output_type": "execute_result"
    }
   ],
   "source": [
    "df.head()"
   ]
  },
  {
   "cell_type": "code",
   "execution_count": 13,
   "metadata": {},
   "outputs": [
    {
     "name": "stdout",
     "output_type": "stream",
     "text": [
      "168359\n",
      "33282\n"
     ]
    }
   ],
   "source": [
    "print(len(df))\n",
    "df = df[df['backbone'] == True]\n",
    "print(len(df))"
   ]
  },
  {
   "cell_type": "code",
   "execution_count": 14,
   "metadata": {},
   "outputs": [],
   "source": [
    "df[[\"d1\",\"d2\", \"weight\"]].to_csv(\"backbones/backbones_pruned.csv\", index=False)"
   ]
  },
  {
   "cell_type": "code",
   "execution_count": 19,
   "metadata": {},
   "outputs": [],
   "source": [
    "G = nx.from_pandas_edgelist(df, source=\"d1\", target=\"d2\", edge_attr=[\"weight\"])"
   ]
  },
  {
   "cell_type": "code",
   "execution_count": 20,
   "metadata": {},
   "outputs": [
    {
     "data": {
      "text/plain": [
       "33282"
      ]
     },
     "execution_count": 20,
     "metadata": {},
     "output_type": "execute_result"
    }
   ],
   "source": [
    "G.number_of_edges()"
   ]
  },
  {
   "cell_type": "code",
   "execution_count": 21,
   "metadata": {},
   "outputs": [
    {
     "data": {
      "text/plain": [
       "1635"
      ]
     },
     "execution_count": 21,
     "metadata": {},
     "output_type": "execute_result"
    }
   ],
   "source": [
    "G.number_of_nodes()"
   ]
  },
  {
   "cell_type": "markdown",
   "metadata": {},
   "source": [
    "Export for Gephi."
   ]
  },
  {
   "cell_type": "code",
   "execution_count": 22,
   "metadata": {},
   "outputs": [],
   "source": [
    "nx.write_gexf(G, \"backbones/backbones_pruned.gexf\")"
   ]
  }
 ],
 "metadata": {
  "kernelspec": {
   "display_name": "Python 3.9.12 ('base')",
   "language": "python",
   "name": "python3"
  },
  "language_info": {
   "codemirror_mode": {
    "name": "ipython",
    "version": 3
   },
   "file_extension": ".py",
   "mimetype": "text/x-python",
   "name": "python",
   "nbconvert_exporter": "python",
   "pygments_lexer": "ipython3",
   "version": "3.9.12"
  },
  "orig_nbformat": 4,
  "vscode": {
   "interpreter": {
    "hash": "4f523f7c76dd18e7ed336217f32f6f704c23c323644912475b9d3570cf04b060"
   }
  }
 },
 "nbformat": 4,
 "nbformat_minor": 2
}
